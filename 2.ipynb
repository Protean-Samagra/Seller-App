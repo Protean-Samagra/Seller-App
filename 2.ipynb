{
 "cells": [
  {
   "cell_type": "code",
   "execution_count": 1,
   "metadata": {},
   "outputs": [
    {
     "data": {
      "text/plain": [
       "True"
      ]
     },
     "execution_count": 1,
     "metadata": {},
     "output_type": "execute_result"
    }
   ],
   "source": [
    "from elasticsearch import Elasticsearch\n",
    "es = Elasticsearch(\n",
    "    \"https://localhost:9200\",\n",
    "    basic_auth=(\"elastic\", \"elastic\"),\n",
    "    ca_certs=\"elasticsearch-8.14.1\\\\config\\\\certs\\\\http_ca.crt\"\n",
    ")\n",
    "es.ping()"
   ]
  },
  {
   "cell_type": "code",
   "execution_count": 2,
   "metadata": {},
   "outputs": [],
   "source": [
    "es.close()"
   ]
  },
  {
   "cell_type": "code",
   "execution_count": 3,
   "metadata": {},
   "outputs": [
    {
     "data": {
      "text/html": [
       "<div>\n",
       "<style scoped>\n",
       "    .dataframe tbody tr th:only-of-type {\n",
       "        vertical-align: middle;\n",
       "    }\n",
       "\n",
       "    .dataframe tbody tr th {\n",
       "        vertical-align: top;\n",
       "    }\n",
       "\n",
       "    .dataframe thead th {\n",
       "        text-align: right;\n",
       "    }\n",
       "</style>\n",
       "<table border=\"1\" class=\"dataframe\">\n",
       "  <thead>\n",
       "    <tr style=\"text-align: right;\">\n",
       "      <th></th>\n",
       "      <th>ProductID</th>\n",
       "      <th>ProductName</th>\n",
       "      <th>ProductBrand</th>\n",
       "      <th>Gender</th>\n",
       "      <th>Price (INR)</th>\n",
       "      <th>NumImages</th>\n",
       "      <th>Description</th>\n",
       "      <th>PrimaryColor</th>\n",
       "    </tr>\n",
       "  </thead>\n",
       "  <tbody>\n",
       "    <tr>\n",
       "      <th>0</th>\n",
       "      <td>10017413</td>\n",
       "      <td>DKNY Unisex Black &amp; Grey Printed Medium Trolle...</td>\n",
       "      <td>DKNY</td>\n",
       "      <td>Unisex</td>\n",
       "      <td>11745</td>\n",
       "      <td>7</td>\n",
       "      <td>Black and grey printed medium trolley bag, sec...</td>\n",
       "      <td>Black</td>\n",
       "    </tr>\n",
       "    <tr>\n",
       "      <th>1</th>\n",
       "      <td>10016283</td>\n",
       "      <td>EthnoVogue Women Beige &amp; Grey Made to Measure ...</td>\n",
       "      <td>EthnoVogue</td>\n",
       "      <td>Women</td>\n",
       "      <td>5810</td>\n",
       "      <td>7</td>\n",
       "      <td>Beige &amp; Grey made to measure kurta with churid...</td>\n",
       "      <td>Beige</td>\n",
       "    </tr>\n",
       "    <tr>\n",
       "      <th>2</th>\n",
       "      <td>10009781</td>\n",
       "      <td>SPYKAR Women Pink Alexa Super Skinny Fit High-...</td>\n",
       "      <td>SPYKAR</td>\n",
       "      <td>Women</td>\n",
       "      <td>899</td>\n",
       "      <td>7</td>\n",
       "      <td>Pink coloured wash 5-pocket high-rise cropped ...</td>\n",
       "      <td>Pink</td>\n",
       "    </tr>\n",
       "    <tr>\n",
       "      <th>3</th>\n",
       "      <td>10015921</td>\n",
       "      <td>Raymond Men Blue Self-Design Single-Breasted B...</td>\n",
       "      <td>Raymond</td>\n",
       "      <td>Men</td>\n",
       "      <td>5599</td>\n",
       "      <td>5</td>\n",
       "      <td>Blue self-design bandhgala suitBlue self-desig...</td>\n",
       "      <td>Blue</td>\n",
       "    </tr>\n",
       "    <tr>\n",
       "      <th>4</th>\n",
       "      <td>10017833</td>\n",
       "      <td>Parx Men Brown &amp; Off-White Slim Fit Printed Ca...</td>\n",
       "      <td>Parx</td>\n",
       "      <td>Men</td>\n",
       "      <td>759</td>\n",
       "      <td>5</td>\n",
       "      <td>Brown and off-white printed casual shirt, has ...</td>\n",
       "      <td>White</td>\n",
       "    </tr>\n",
       "  </tbody>\n",
       "</table>\n",
       "</div>"
      ],
      "text/plain": [
       "   ProductID                                        ProductName ProductBrand  \\\n",
       "0   10017413  DKNY Unisex Black & Grey Printed Medium Trolle...         DKNY   \n",
       "1   10016283  EthnoVogue Women Beige & Grey Made to Measure ...   EthnoVogue   \n",
       "2   10009781  SPYKAR Women Pink Alexa Super Skinny Fit High-...       SPYKAR   \n",
       "3   10015921  Raymond Men Blue Self-Design Single-Breasted B...      Raymond   \n",
       "4   10017833  Parx Men Brown & Off-White Slim Fit Printed Ca...         Parx   \n",
       "\n",
       "   Gender  Price (INR)  NumImages  \\\n",
       "0  Unisex        11745          7   \n",
       "1   Women         5810          7   \n",
       "2   Women          899          7   \n",
       "3     Men         5599          5   \n",
       "4     Men          759          5   \n",
       "\n",
       "                                         Description PrimaryColor  \n",
       "0  Black and grey printed medium trolley bag, sec...        Black  \n",
       "1  Beige & Grey made to measure kurta with churid...        Beige  \n",
       "2  Pink coloured wash 5-pocket high-rise cropped ...         Pink  \n",
       "3  Blue self-design bandhgala suitBlue self-desig...         Blue  \n",
       "4  Brown and off-white printed casual shirt, has ...        White  "
      ]
     },
     "execution_count": 3,
     "metadata": {},
     "output_type": "execute_result"
    }
   ],
   "source": [
    "import pandas as pd\n",
    "df = pd.read_csv(\"data2.csv\")\n",
    "df.head()"
   ]
  },
  {
   "cell_type": "code",
   "execution_count": 49,
   "metadata": {},
   "outputs": [],
   "source": [
    "df.isna().value_counts()\n",
    "df.fillna(\"None\", inplace=True)"
   ]
  },
  {
   "cell_type": "code",
   "execution_count": 50,
   "metadata": {},
   "outputs": [
    {
     "data": {
      "text/plain": [
       "ProductID  ProductName  ProductBrand  Gender  Price (INR)  NumImages  Description  PrimaryColor\n",
       "False      False        False         False   False        False      False        False           12491\n",
       "Name: count, dtype: int64"
      ]
     },
     "execution_count": 50,
     "metadata": {},
     "output_type": "execute_result"
    }
   ],
   "source": [
    "df.isna().value_counts()"
   ]
  },
  {
   "cell_type": "code",
   "execution_count": 3,
   "metadata": {},
   "outputs": [
    {
     "name": "stderr",
     "output_type": "stream",
     "text": [
      "e:\\seller_app2\\venv\\Lib\\site-packages\\sentence_transformers\\cross_encoder\\CrossEncoder.py:11: TqdmExperimentalWarning: Using `tqdm.autonotebook.tqdm` in notebook mode. Use `tqdm.tqdm` instead to force console mode (e.g. in jupyter console)\n",
      "  from tqdm.autonotebook import tqdm, trange\n"
     ]
    }
   ],
   "source": [
    "from sentence_transformers import SentenceTransformer\n",
    "model = SentenceTransformer(\"all-mpnet-base-v2\")"
   ]
  },
  {
   "cell_type": "code",
   "execution_count": 52,
   "metadata": {},
   "outputs": [],
   "source": [
    "df[\"DescriptionVector\"] = df[\"Description\"].apply(lambda x: model.encode(x))"
   ]
  },
  {
   "cell_type": "code",
   "execution_count": 53,
   "metadata": {},
   "outputs": [],
   "source": [
    "df[\"ProductNameVector\"] = df[\"ProductName\"].apply(lambda x: model.encode(x))"
   ]
  },
  {
   "cell_type": "code",
   "execution_count": 4,
   "metadata": {},
   "outputs": [],
   "source": [
    "index_settings = {\n",
    "    \"settings\": {\n",
    "        \"analysis\": {\n",
    "            \"analyzer\": {\n",
    "                \"english_analyzer\": {\n",
    "                    \"type\": \"standard\",\n",
    "                    \"stopwords\": \"_english_\"\n",
    "                },\n",
    "                \"hindi_analyzer\": {\n",
    "                    \"type\": \"custom\",\n",
    "                    \"tokenizer\": \"standard\",\n",
    "                    \"filter\": [\"lowercase\", \"asciifolding\"]\n",
    "                },\n",
    "                \"trigram_analyzer\": {\n",
    "                    \"type\": \"custom\",\n",
    "                    \"tokenizer\": \"standard\",\n",
    "                    \"filter\": [\"lowercase\", \"shingle\"]\n",
    "                }\n",
    "            },\n",
    "            \"filter\": {\n",
    "                \"shingle\": {\n",
    "                    \"type\": \"shingle\",\n",
    "                    \"min_shingle_size\": 2,\n",
    "                    \"max_shingle_size\": 3,\n",
    "                    \"output_unigrams\": True\n",
    "                }\n",
    "            }\n",
    "        }\n",
    "    },\n",
    "    \"mappings\": {\n",
    "        \"properties\": {\n",
    "            \"ProductID\": {\"type\": \"long\"},\n",
    "            \"ProductName\": {\n",
    "                \"type\": \"text\",\n",
    "                \"fields\": {\n",
    "                    \"english\": {\"type\": \"text\", \"analyzer\": \"english_analyzer\"},\n",
    "                    \"hindi\": {\"type\": \"text\", \"analyzer\": \"hindi_analyzer\"},\n",
    "                    \"trigram\": {\"type\": \"text\", \"analyzer\": \"trigram_analyzer\"}\n",
    "                }\n",
    "            },\n",
    "            \"ProductName_suggest\": {\"type\": \"completion\"},\n",
    "            \"ProductBrand\": {\"type\": \"text\"},\n",
    "            \"Gender\": {\"type\": \"text\"},\n",
    "            \"Price (INR)\": {\"type\": \"long\"},\n",
    "            \"NumImages\": {\"type\": \"long\"},\n",
    "            \"Description\": {\n",
    "                \"type\": \"text\",\n",
    "                \"fields\": {\n",
    "                    \"english\": {\"type\": \"text\", \"analyzer\": \"english_analyzer\"},\n",
    "                    \"hindi\": {\"type\": \"text\", \"analyzer\": \"hindi_analyzer\"}\n",
    "                }\n",
    "            },\n",
    "            \"PrimaryColor\": {\"type\": \"text\"},\n",
    "            \"DescriptionVector\": {\"type\": \"dense_vector\", \"dims\": 768, \"index\": True, \"similarity\": \"l2_norm\"},\n",
    "            \"ProductNameVector\": {\"type\": \"dense_vector\", \"dims\": 768, \"index\": True, \"similarity\": \"l2_norm\"}\n",
    "        }\n",
    "    }\n",
    "}"
   ]
  },
  {
   "cell_type": "code",
   "execution_count": 57,
   "metadata": {},
   "outputs": [],
   "source": [
    "index_name = \"all_products\"\n",
    "if es.indices.exists(index=index_name):\n",
    "    es.indices.delete(index=index_name)"
   ]
  },
  {
   "cell_type": "code",
   "execution_count": 58,
   "metadata": {},
   "outputs": [
    {
     "data": {
      "text/plain": [
       "ObjectApiResponse({'acknowledged': True, 'shards_acknowledged': True, 'index': 'all_products'})"
      ]
     },
     "execution_count": 58,
     "metadata": {},
     "output_type": "execute_result"
    }
   ],
   "source": [
    "es.indices.create(index=index_name, body=index_settings)"
   ]
  },
  {
   "cell_type": "code",
   "execution_count": 59,
   "metadata": {},
   "outputs": [],
   "source": [
    "record_list = df.to_dict(\"records\")\n",
    "for record in record_list:\n",
    "    record[\"ProductName_suggest\"] = record[\"ProductName\"]\n",
    "    try:\n",
    "        es.index(index=\"all_products\", document=record, id=record[\"ProductID\"])\n",
    "    except Exception as e:\n",
    "        print(e)"
   ]
  },
  {
   "cell_type": "code",
   "execution_count": 5,
   "metadata": {},
   "outputs": [],
   "source": [
    "import numpy as np\n",
    "def normalize_vector(vector):\n",
    "    norm = np.linalg.norm(vector)\n",
    "    if norm == 0: \n",
    "        return vector\n",
    "    return vector / norm"
   ]
  },
  {
   "cell_type": "code",
   "execution_count": 7,
   "metadata": {},
   "outputs": [
    {
     "name": "stdout",
     "output_type": "stream",
     "text": [
      "ProductName: Slub Blue Washed Slim Jeans, Description: A pair of blue 5-pocket mid-rise jeans, lightly washed, has whiskers, a zip fly with a button closure, and a waistband with belt loops, Score: 0.62424034\n",
      "ProductName: Slub Blue Washed Slim Jeans, Description: A pair of blue 5-pocket mid-rise jeans, lightly washed and lightly distressed, has whiskers and chevrons, a button fly closure, and a waistband with belt loopsOur stylist has paired these jeans with a beltThese jeans will not come with a belt, Score: 0.62424034\n",
      "ProductName: Calvin Klein Jeans Men Black Slim Fit Light Fade Stretchable Jeans, Description:   Dark light fade black jeans   Slim fit,  mid-rise   Clean look   Stretchable   5 pocket   Length: regular  , Score: 0.60754806\n",
      "ProductName: Pepe Jeans Men Blue Heavy Fade Stretchable Jeans, Description:   Dark heavy fade blue jeans   Regular fit,  mid-rise   Clean look   Stretchable   5 pocket   Length: regular  , Score: 0.60743755\n",
      "ProductName: Calvin Klein Jeans Men Grey Solid Straight Fit Joggers, Description: Grey solid joggers, has an elasticated waistband with drawstring fastening, 2 pockets and cuffed hem, Score: 0.60047567\n",
      "ProductName: Calvin Klein Jeans Men Black Solid Joggers, Description: A pair of black solid joggers, has an elasticated waistband with drawstring closure, 2 pockets, and 1 mock pocket at the back, Score: 0.5975813\n",
      "ProductName: Calvin Klein Jeans Men Black Slim Fit Solid Regular Trousers, Description: Black solid mid-rise trousers, button closure, and 5 pockets, Score: 0.5968884\n",
      "ProductName: Pepe Jeans Men Navy Blue Slim Fit Stretchable Jeans, Description: Navy Blue wash five-pocket mid-rise jeans, no fade, and has a button and zip closure Design Details-\t73 FASHION- RAW- CLASSIC DENIM WITH STYLISED 5 POCKET SLIMFIT- MID RISE  JEANS  JEANS,  DARK RINSE- CLEAN LOOK NON FADED,   ZIP FLY WITH 5 BELT  LOOPS, Score: 0.5971524\n",
      "ProductName: Calvin Klein Jeans Men Solid Regular Fit  Joggers, Description: Black solid joggers, has an elasticated waistband with drawstring closure, four pockets, has side strips, Score: 0.5974932\n",
      "ProductName: Pepe Jeans Men Grey Slim Fit Vapour Low-Rise Clean Look Stretchable Jeans, Description: Grey dark wash 5-pocket low-rise jeans, clean look, no fade, has a button and zip closure, and waistband with belt loops Design Details-73 FASHION- SIGNARATURE BRAND CARRIER STYLISED 5 POCKET SLIM FIT- MID RISE  JEANS,  GREY RINSE- NON FADED- CLEAN LOOK,  ZIP FLY & 5 BELT LOOPS, Score: 0.59442997\n",
      "ProductName: DressBerry Women Blue Regular Fit Solid Denim Cropped Jeggings, Description: Blue solid cropped denim jeggings, has 2 pockets and slip-on closure, Score: 0.5883414\n",
      "ProductName: Vero Moda Grey Panelled Washed Slim Jeans, Description: A pair of grey 5-pocket low-rise panelled jeans, lightly washed, has a zip fly with a button closure and a waistband with belt loops, Score: 0.5832505\n",
      "ProductName: Pepe Jeans Boys Black Solid Mid Rise Stretchable Jeans, Description: Black solid mid-rise stretchable jeans, has a waistband with beltloops, button closure, zip fly and five pockets, Score: 0.5735033\n",
      "ProductName: Pepe Jeans Men Blue Slim Fit Low-Rise Clean Look Stretchable Jeans, Description: Blue medium wash 5-pocket low-rise jeans, clean look, light fade, has a button and zip closure, and waistband with belt loops Design Details-73 FASHION- STRUCTURED DENIM- STYLISED POCKET SLIMFIT- MID RISE  JEANS,  UNIQUE WEAVE TECHNOLOGY IMPARTING FABRIC CHARACTERISTIC  WITH SQUARE GRID-LIKE IMPRESSION, LIGHTLY FADED,  ZIP FLY WITH 5 BELT  LOOPS, Score: 0.5677538\n",
      "ProductName: SELECTED Blue Slim Fit Jeans, Description: A pair of blue 5-pocket mid-rise jeans, lightly washed, has whiskers, a zip fly with a button closure, a waistband with belt loops, Score: 0.56863165\n",
      "ProductName: GAP Men's Skinny Jeans with GapFlex, Description: When you want a skinny jean, this is THE ONE. Enough said. Cut to fit and feel great. Up for whatever you've got going on. This is authentic denim. Made to last. Made so you can be you. And we've been at it for almost 50 years.Made with GapFlex stretch technology for extra flexibility and total comfort.In a perfect year-round 11 oz. Better planet. This pair of denim is part of our water-saving Washwell program. Compared to conventional wash methods, Washwell has saved millions of liters of water since 2016.Denim.Black wash.Classic five-pocket styling.Button closure, zip fly.Better denim., Score: 0.5677129\n",
      "ProductName: Flying Machine Women White Regular Fit Jeggings, Description: White denim jeggings, has an elasticated waistband, two front mock pockets, two functional pockets, Score: 0.5672649\n",
      "ProductName: Pepe Jeans Girls Blue Skinny Fit Light Fade Stretchable Jeans With Side Stripes, Description: Blue dark wash jeans With side stripes, clean look, light fade, and has a button fly closure, Score: 0.5639996\n",
      "ProductName: SELECTED Black Skinny Jeans, Description: A pair of black 5-pocket mid-rise jeans, has a button fly with a button closure, and a waistband with belt loops, Score: 0.5610784\n",
      "ProductName: Pepe Jeans Boys Black Slim Fit Jeans, Description:   Dark no fade black jeans   Slim fit,  mid-rise   Clean look   Non stretchable   5 pocket   Length: regular  , Score: 10.607309\n",
      "ProductName: Pepe Jeans Boys Blue Slim Fit Stretchable Jeans, Description:   Dark light fade blue jeans   Slim fit,  mid-rise   Clean look   Stretchable   5 pocket   Length: regular  , Score: 10.256828\n",
      "ProductName: Pepe Jeans Girls White Regular Fit Stretchable Jeans, Description: Light no fade white jeansRegular fit, mid-riseClean lookStretchableButton and zip closure5 pocketLength: regular, Score: 10.256828\n",
      "ProductName: Pepe Jeans Boys Olive Slim Fit Stretchable Jeans, Description:   Coloured no fade olive jeans   Slim fit,  mid-rise   Clean look   Stretchable   5 pocket   Length: regular  , Score: 10.256828\n",
      "ProductName: Pepe Jeans Men Blue Heavy Fade Stretchable Jeans, Description:   Dark heavy fade blue jeans   Regular fit,  mid-rise   Clean look   Stretchable   5 pocket   Length: regular  , Score: 10.256828\n",
      "ProductName: Pepe Jeans Boys Black Solid Mid Rise Stretchable Jeans, Description: Black solid mid-rise stretchable jeans, has a waistband with beltloops, button closure, zip fly and five pockets, Score: 9.928765\n",
      "ProductName: Pepe Jeans Boys Blue Slim Fit Heavy Fade Jeans, Description: Light heavy fade blue jeans has slim fit, mid rise, clean look with 5 pockets, Score: 9.928765\n",
      "ProductName: Pepe Jeans Boys Brown Solid Slim Fit Stretchable Jeans, Description: Coloured no fade brown jeansslim fit, mid-riseClean lookStretchable3 insert pockets and 2 patch pockets Length: regular, Score: 9.928765\n",
      "ProductName: Pepe Jeans Boys Grey Slim Fit Heavy Fade Jeans, Description:   Medium heavy fade grey jeans   Slim fit,  mid-rise   Clean look   Non stretchable   5 pocket   Length: regular  , Score: 9.928765\n",
      "ProductName: Pepe Jeans Girls Blue BETH Skinny Fit Stretchable Jeans, Description:   Dark no fade blue jeans   Skinny fit,  mid-rise   Clean look   Stretchable   With side stripe   5 pocket   Length: regular  , Score: 9.928765\n"
     ]
    }
   ],
   "source": [
    "input_keyword = \"jeans \"\n",
    "#spell check\n",
    "\n",
    "spell_check_query = {\n",
    "    \"suggest\": {\n",
    "        \"product-name-suggest\": {\n",
    "            \"prefix\": input_keyword,\n",
    "            \"completion\": {\n",
    "                \"field\": \"ProductName_suggest\",\n",
    "                \"fuzzy\": {\n",
    "                    \"fuzziness\": \"auto\"\n",
    "                }\n",
    "            }\n",
    "        }\n",
    "    }\n",
    "}\n",
    "\n",
    "spell_check_res = es.search(index=\"all_products\", body=spell_check_query)\n",
    "suggestions = spell_check_res.get('suggest', {}).get('product-name-suggest', [])[0].get('options', [])\n",
    "\n",
    "if suggestions:\n",
    "    corrected_keyword = suggestions[0]['text']\n",
    "    print(f\"Corrected keyword: {corrected_keyword}\")\n",
    "    vector_of_input_keyword = model.encode(corrected_keyword)\n",
    "else:\n",
    "    corrected_keyword = input_keyword\n",
    "    vector_of_input_keyword = model.encode(input_keyword)\n",
    "\n",
    "# Autofill suggestion query (same as above spell check)\n",
    "for suggestion in suggestions:\n",
    "    print(f\"Suggestion: {suggestion['text']}\")\n",
    "\n",
    "knn_query_description = {\n",
    "    \"field\": \"DescriptionVector\",\n",
    "    \"query_vector\": vector_of_input_keyword,\n",
    "    \"k\": 10,\n",
    "    \"num_candidates\": 10000\n",
    "}\n",
    "\n",
    "# k-NN query for ProductNameVector\n",
    "knn_query_productname = {\n",
    "    \"field\": \"ProductNameVector\",\n",
    "    \"query_vector\": vector_of_input_keyword,\n",
    "    \"k\": 10,\n",
    "    \"num_candidates\": 10000\n",
    "}\n",
    "\n",
    "# Perform k-NN search\n",
    "res_description = es.search(index=\"all_products\", knn=knn_query_description, _source=[\"ProductName\", \"Description\", \"DescriptionVector\"])\n",
    "res_productname = es.search(index=\"all_products\", knn=knn_query_productname, _source=[\"ProductName\", \"Description\", \"ProductNameVector\"])\n",
    "\n",
    "# Combine results\n",
    "combined_hits = res_description[\"hits\"][\"hits\"] + res_productname[\"hits\"][\"hits\"]\n",
    "\n",
    "# Remove duplicate hits based on the document ID\n",
    "combined_hits = {hit[\"_id\"]: hit for hit in combined_hits}.values()\n",
    "\n",
    "# Calculate cosine similarity\n",
    "def cosine_similarity(vec1, vec2):\n",
    "    return np.dot(vec1, vec2) / (np.linalg.norm(vec1) * np.linalg.norm(vec2))\n",
    "\n",
    "# Filter and sort the combined results using mean cosine similarity\n",
    "filtered_hits = []\n",
    "for hit in combined_hits:\n",
    "    description_vector = hit[\"_source\"].get(\"DescriptionVector\")\n",
    "    productname_vector = hit[\"_source\"].get(\"ProductNameVector\")\n",
    "    similarity_score = 0\n",
    "\n",
    "    if description_vector is not None and productname_vector is not None:\n",
    "        similarity_score = (cosine_similarity(vector_of_input_keyword, description_vector) + cosine_similarity(vector_of_input_keyword, productname_vector)) / 2\n",
    "    elif description_vector is not None:\n",
    "        similarity_score = cosine_similarity(vector_of_input_keyword, description_vector)\n",
    "    elif productname_vector is not None:\n",
    "        similarity_score = cosine_similarity(vector_of_input_keyword, productname_vector)\n",
    "\n",
    "    hit[\"_source\"][\"similarity_score\"] = similarity_score\n",
    "    filtered_hits.append(hit)\n",
    "\n",
    "# Sort filtered results by combined score (mean cosine similarity + Elasticsearch score)\n",
    "filtered_hits = sorted(filtered_hits, key=lambda x: (0.5 * x[\"_source\"][\"similarity_score\"] + 0.5 * x[\"_score\"]), reverse=True)\n",
    "\n",
    "# Apply additional filters and scoring adjustments\n",
    "final_hits = []\n",
    "for hit in filtered_hits:\n",
    "    # Dynamically filter results based on keyword\n",
    "    if 'shoes' in corrected_keyword.lower() and 'shoes' not in hit['_source']['ProductName'].lower():\n",
    "        continue\n",
    "    final_hits.append(hit)\n",
    "\n",
    "# Display the top results\n",
    "for hit in final_hits[:20]:\n",
    "    print(f\"ProductName: {hit['_source']['ProductName']}, Description: {hit['_source']['Description']}, Score: {hit['_score']}\")\n",
    "\n",
    "# Multi-language query\n",
    "multi_lang_query = {\n",
    "    \"multi_match\": {\n",
    "        \"query\": corrected_keyword,  # Use the corrected keyword here\n",
    "        \"fields\": [\"ProductName^3\", \"ProductName.english\", \"ProductName.hindi\", \"Description\", \"Description.english\", \"Description.hindi\"]\n",
    "    }\n",
    "}\n",
    "\n",
    "multi_lang_res = es.search(index=\"all_products\", body={\"query\": multi_lang_query})\n",
    "for hit in multi_lang_res[\"hits\"][\"hits\"]:\n",
    "    print(f\"ProductName: {hit['_source']['ProductName']}, Description: {hit['_source']['Description']}, Score: {hit['_score']}\")"
   ]
  },
  {
   "cell_type": "code",
   "execution_count": null,
   "metadata": {},
   "outputs": [],
   "source": []
  }
 ],
 "metadata": {
  "kernelspec": {
   "display_name": "venv",
   "language": "python",
   "name": "python3"
  },
  "language_info": {
   "codemirror_mode": {
    "name": "ipython",
    "version": 3
   },
   "file_extension": ".py",
   "mimetype": "text/x-python",
   "name": "python",
   "nbconvert_exporter": "python",
   "pygments_lexer": "ipython3",
   "version": "3.12.0"
  }
 },
 "nbformat": 4,
 "nbformat_minor": 2
}
